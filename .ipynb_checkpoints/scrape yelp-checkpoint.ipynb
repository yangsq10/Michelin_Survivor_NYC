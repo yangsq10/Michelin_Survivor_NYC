{
 "cells": [
  {
   "cell_type": "code",
   "execution_count": 33,
   "metadata": {},
   "outputs": [],
   "source": [
    "import csv\n",
    "import requests\n",
    "from bs4 import BeautifulSoup\n",
    "import os.path\n",
    "import pandas as pd\n",
    "from random import uniform\n",
    "from time import sleep\n",
    "\n",
    "\n",
    "\n",
    "def get_soup(url):\n",
    "    try:\n",
    "        sleep(uniform(.3, 3.5))\n",
    "        response = requests.get(url, timeout=10)\n",
    "        soup = BeautifulSoup(response.content, 'html.parser')\n",
    "    except:\n",
    "        get_soup(url)\n",
    "        \n",
    "    return soup\n"
   ]
  },
  {
   "cell_type": "code",
   "execution_count": 37,
   "metadata": {},
   "outputs": [
    {
     "data": {
      "text/plain": [
       "'alto'"
      ]
     },
     "execution_count": 37,
     "metadata": {},
     "output_type": "execute_result"
    }
   ],
   "source": [
    "import pandas as pd\n",
    "restos = pd.read_csv('to_add.csv', encoding = 'Latin1')\n",
    "restos = restos.sort_values(by = 'restos', ascending = True)\n",
    "restos = restos.restos.values\n",
    "restos[0]"
   ]
  },
  {
   "cell_type": "code",
   "execution_count": 41,
   "metadata": {},
   "outputs": [
    {
     "ename": "UnboundLocalError",
     "evalue": "local variable 'soup' referenced before assignment",
     "output_type": "error",
     "traceback": [
      "\u001b[0;31m---------------------------------------------------------------------------\u001b[0m",
      "\u001b[0;31mUnboundLocalError\u001b[0m                         Traceback (most recent call last)",
      "\u001b[0;32m<ipython-input-41-9fa820bac068>\u001b[0m in \u001b[0;36m<module>\u001b[0;34m\u001b[0m\n\u001b[1;32m     71\u001b[0m             \u001b[0msoup\u001b[0m \u001b[0;34m=\u001b[0m \u001b[0mget_soup\u001b[0m\u001b[0;34m(\u001b[0m\u001b[0ma\u001b[0m\u001b[0;34m)\u001b[0m\u001b[0;34m\u001b[0m\u001b[0;34m\u001b[0m\u001b[0m\n\u001b[1;32m     72\u001b[0m         \u001b[0;32melse\u001b[0m\u001b[0;34m:\u001b[0m\u001b[0;34m\u001b[0m\u001b[0;34m\u001b[0m\u001b[0m\n\u001b[0;32m---> 73\u001b[0;31m             \u001b[0msoup\u001b[0m \u001b[0;34m=\u001b[0m \u001b[0mget_soup\u001b[0m\u001b[0;34m(\u001b[0m\u001b[0murl\u001b[0m\u001b[0;34m)\u001b[0m\u001b[0;34m\u001b[0m\u001b[0;34m\u001b[0m\u001b[0m\n\u001b[0m\u001b[1;32m     74\u001b[0m \u001b[0;34m\u001b[0m\u001b[0m\n\u001b[1;32m     75\u001b[0m             \u001b[0;32mwith\u001b[0m \u001b[0mopen\u001b[0m\u001b[0;34m(\u001b[0m\u001b[0murl_id\u001b[0m\u001b[0;34m,\u001b[0m \u001b[0;34m\"w\"\u001b[0m\u001b[0;34m)\u001b[0m \u001b[0;32mas\u001b[0m \u001b[0mfile\u001b[0m\u001b[0;34m:\u001b[0m\u001b[0;34m\u001b[0m\u001b[0;34m\u001b[0m\u001b[0m\n",
      "\u001b[0;32m<ipython-input-33-05c7d51bbe63>\u001b[0m in \u001b[0;36mget_soup\u001b[0;34m(url)\u001b[0m\n\u001b[1;32m     17\u001b[0m         \u001b[0mget_soup\u001b[0m\u001b[0;34m(\u001b[0m\u001b[0murl\u001b[0m\u001b[0;34m)\u001b[0m\u001b[0;34m\u001b[0m\u001b[0;34m\u001b[0m\u001b[0m\n\u001b[1;32m     18\u001b[0m \u001b[0;34m\u001b[0m\u001b[0m\n\u001b[0;32m---> 19\u001b[0;31m     \u001b[0;32mreturn\u001b[0m \u001b[0msoup\u001b[0m\u001b[0;34m\u001b[0m\u001b[0;34m\u001b[0m\u001b[0m\n\u001b[0m",
      "\u001b[0;31mUnboundLocalError\u001b[0m: local variable 'soup' referenced before assignment"
     ]
    }
   ],
   "source": [
    "from random import uniform\n",
    "from time import sleep\n",
    "import os\n",
    "import codecs\n",
    "\n",
    "areas = ['new-york', 'brooklyn', 'long-island-city', 'new-york-4']\n",
    "error_log = 'error.csv'\n",
    "yelp_data_file = 'yelp_data_additional.csv'\n",
    "\n",
    "for resto in restos:\n",
    "    area      = areas[0]\n",
    "    home_page = 'https://www.yelp.com/biz/{}-{}?start={}'.format(resto, areas[0], '0')\n",
    "    soup = get_soup(home_page)\n",
    "    \n",
    "    try:\n",
    "        n_pages = int(soup.find_all(class_ = 'page-of-pages')[0].text.strip('\\n').split('of')[1].strip()) \n",
    "    except:\n",
    "        try:\n",
    "            home_page = 'https://www.yelp.com/biz/{}-{}?start={}'.format(resto, areas[1], '0')\n",
    "            soup      = get_soup(home_page)\n",
    "            n_pages   = int(soup.find_all(class_ = 'page-of-pages')[0].text.strip('\\n').split('of')[1].strip()) \n",
    "            area      = areas[1]\n",
    "        except:\n",
    "            try:\n",
    "                home_page = 'https://www.yelp.com/biz/{}-{}?start={}'.format(resto, areas[2], '0')\n",
    "                soup      = get_soup(home_page)\n",
    "                n_pages   = int(soup.find_all(class_ = 'page-of-pages')[0].text.strip('\\n').split('of')[1].strip()) \n",
    "                area       = areas[2]\n",
    "            except:\n",
    "                try:\n",
    "                    home_page = 'https://www.yelp.com/biz/{}-{}?start={}'.format('the-'+ resto, areas[0], '0')\n",
    "                    soup      = get_soup(home_page)\n",
    "                    n_pages   = int(soup.find_all(class_ = 'page-of-pages')[0].text.strip('\\n').split('of')[1].strip())\n",
    "                    area      = areas[0]\n",
    "                    resto = 'the-' + resto\n",
    "                except:\n",
    "                    try:\n",
    "                        home_page = 'https://www.yelp.com/biz/{}-{}?start={}'.format('the-'+ resto, areas[1], '0')\n",
    "                        soup      = get_soup(home_page)\n",
    "                        n_pages   = int(soup.find_all(class_ = 'page-of-pages')[0].text.strip('\\n').split('of')[1].strip())\n",
    "                        area      = areas[1]\n",
    "                        resto = 'the-' + resto\n",
    "                    except:\n",
    "                        try:\n",
    "                            home_page = 'https://www.yelp.com/biz/{}-{}?start={}'.format('the-'+ resto, areas[2], '0')\n",
    "                            soup      = get_soup(home_page)\n",
    "                            n_pages   = int(soup.find_all(class_ = 'page-of-pages')[0].text.strip('\\n').split('of')[1].strip())\n",
    "                            area      = areas[2]\n",
    "                            resto = 'the-' + resto\n",
    "                        except:\n",
    "                            try:\n",
    "                                home_page = 'https://www.yelp.com/biz/{}-{}?start={}'.format('the-'+ resto, areas[3], '0')\n",
    "                                soup      = get_soup(home_page)\n",
    "                                n_pages   = int(soup.find_all(class_ = 'page-of-pages')[0].text.strip('\\n').split('of')[1].strip())\n",
    "                                area      = areas[2]\n",
    "                                resto = 'the-' + resto\n",
    "                            except:\n",
    "                                with open(error_log, 'w') as csv_file:\n",
    "                                    writer = csv.writer(csv_file)\n",
    "                                    writer.writerow([resto])\n",
    "                                    n_pages = 0\n",
    "                            \n",
    "\n",
    "    for p in range(0, n_pages + 1):\n",
    "        url     = 'https://www.yelp.com/biz/{}-{}?start={}&sort_by=date_asc'.format(resto, area, p*20)\n",
    "        url_id  = 'scrape/{}_{}.html'.format(resto, p*20)\n",
    "        \n",
    "        if os.path.isfile(url_id) is True:\n",
    "            f    = codecs.open(url_id, 'r')\n",
    "            a    = f.read()\n",
    "            soup = get_soup(a)\n",
    "        else:\n",
    "            soup = get_soup(url)\n",
    "            \n",
    "            with open(url_id, \"w\") as file:\n",
    "                file.write(str(soup))\n",
    "        \n",
    "        review_boxes = soup.find_all(class_='review-content')\n",
    "        \n",
    "        row = list()\n",
    "        for r in range(0,len(review_boxes)):\n",
    "            row.append([resto])\n",
    "            row.append([(review_boxes[r].find(class_ = 'rating-qualifier')\n",
    "                       .text.strip()\n",
    "                       .rstrip()\n",
    "                       .replace('\\n', '')\n",
    "                       .replace('Updated review', '').\n",
    "                       split(' ')[0] )])\n",
    "            row.append( [float(review_boxes[r].find(class_ = 'i-stars').img['alt'].split(' ')[0] )])\n",
    "            row.append([review_boxes[r].find('p').text]) \n",
    "            \n",
    "            with open(yelp_data_file, \"w\") as csv_file:\n",
    "                writer = csv.writer(csv_file)\n",
    "                writer.writerow(row)\n",
    "            \n",
    "        \n",
    "\n",
    "                \n"
   ]
  },
  {
   "cell_type": "code",
   "execution_count": null,
   "metadata": {},
   "outputs": [],
   "source": []
  }
 ],
 "metadata": {
  "kernelspec": {
   "display_name": "Python 3",
   "language": "python",
   "name": "python3"
  },
  "language_info": {
   "codemirror_mode": {
    "name": "ipython",
    "version": 3
   },
   "file_extension": ".py",
   "mimetype": "text/x-python",
   "name": "python",
   "nbconvert_exporter": "python",
   "pygments_lexer": "ipython3",
   "version": "3.7.3"
  }
 },
 "nbformat": 4,
 "nbformat_minor": 2
}
