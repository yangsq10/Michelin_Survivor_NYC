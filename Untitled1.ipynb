{
 "cells": [
  {
   "cell_type": "code",
   "execution_count": 39,
   "metadata": {},
   "outputs": [
    {
     "data": {
      "text/plain": [
       "0     0.453302\n",
       "1     0.519472\n",
       "2     0.131699\n",
       "3     0.267599\n",
       "4     0.323587\n",
       "5     0.166691\n",
       "6     0.153112\n",
       "7     0.275620\n",
       "8     0.702870\n",
       "9     0.635393\n",
       "10    0.227922\n",
       "11    0.548044\n",
       "12    0.112173\n",
       "13    0.846913\n",
       "14    0.786931\n",
       "15    0.161020\n",
       "16    0.289780\n",
       "17    0.483970\n",
       "18    0.194951\n",
       "19    0.198282\n",
       "20    0.434766\n",
       "21    0.398988\n",
       "22    0.385991\n",
       "23    1.000000\n",
       "24    0.510945\n",
       "25    0.376389\n",
       "26    0.212104\n",
       "27    0.140224\n",
       "28    0.287101\n",
       "29    0.353597\n",
       "        ...   \n",
       "42    0.576400\n",
       "43    0.257533\n",
       "44    0.405949\n",
       "45    0.367264\n",
       "46    0.236020\n",
       "47    0.368410\n",
       "48    0.714396\n",
       "49    0.274820\n",
       "50    0.484292\n",
       "51    0.672932\n",
       "52    0.509320\n",
       "53    0.467391\n",
       "54    0.701717\n",
       "55    0.238916\n",
       "56    0.668257\n",
       "57    0.305875\n",
       "58    0.087402\n",
       "59    0.485601\n",
       "60    0.711206\n",
       "61    0.835331\n",
       "62    0.715812\n",
       "63    0.592278\n",
       "64    0.233962\n",
       "65    0.187529\n",
       "66    0.803142\n",
       "67    0.409679\n",
       "68    0.379864\n",
       "69    0.494003\n",
       "70    0.317424\n",
       "71    0.316443\n",
       "Name: security, Length: 72, dtype: float64"
      ]
     },
     "execution_count": 39,
     "metadata": {},
     "output_type": "execute_result"
    }
   ],
   "source": [
    "import pandas as pd\n",
    "from sklearn.preprocessing import minmax_scale\n",
    "\n",
    "df = pd.read_csv('michelin_2020_model_data.csv')\n",
    "# df['sec_scaled'] = 1 - minmax_scale(df.security, feature_range= (0,1))\n",
    "df.security"
   ]
  },
  {
   "cell_type": "code",
   "execution_count": null,
   "metadata": {},
   "outputs": [],
   "source": [
    "main_points = ['div4_food_quality', 'div2_wait_time', 'div4_slope', 'div1_value', 'div1_service', 'div4_slope', 'div4_std', 'div3_service', 'total_mean']"
   ]
  }
 ],
 "metadata": {
  "kernelspec": {
   "display_name": "Python 3",
   "language": "python",
   "name": "python3"
  },
  "language_info": {
   "codemirror_mode": {
    "name": "ipython",
    "version": 3
   },
   "file_extension": ".py",
   "mimetype": "text/x-python",
   "name": "python",
   "nbconvert_exporter": "python",
   "pygments_lexer": "ipython3",
   "version": "3.7.3"
  }
 },
 "nbformat": 4,
 "nbformat_minor": 2
}
